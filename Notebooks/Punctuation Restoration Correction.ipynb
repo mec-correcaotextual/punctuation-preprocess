{
 "cells": [
  {
   "cell_type": "code",
   "execution_count": null,
   "metadata": {
    "id": "vL0Rz4F6VWfM",
    "pycharm": {
     "name": "#%%\n"
    }
   },
   "outputs": [],
   "source": [
    "!pip install simpletransformers\n",
    "!pip install spacy==3.2.1\n",
    "!python -m spacy download pt_core_news_lg\n",
    "!pip install seqval"
   ]
  },
  {
   "cell_type": "code",
   "source": [
    "import requests\n",
    "from tqdm import tqdm\n",
    "from zipfile import ZipFile\n",
    "import os \n",
    "import shutil"
   ],
   "metadata": {
    "id": "nM6tqAd9bnQK",
    "pycharm": {
     "name": "#%%\n"
    }
   },
   "execution_count": null,
   "outputs": []
  },
  {
   "cell_type": "code",
   "source": [
    "BASE_MODEL_DIR = './drive/Shareddrives/MEC - Correção textual/PLN/Notebooks/Pontuação/models'\n",
    "MODEL_NAME = 'bert-portuguese-tedtalk2012'\n",
    "zipfile = ZipFile(os.path.join(BASE_MODEL_DIR, f'{MODEL_NAME}.zip'))\n",
    "zipfile.extractall(path=MODEL_NAME)"
   ],
   "metadata": {
    "id": "4sQ4d7-Cbjin",
    "pycharm": {
     "name": "#%%\n"
    }
   },
   "execution_count": null,
   "outputs": []
  },
  {
   "cell_type": "code",
   "execution_count": null,
   "metadata": {
    "id": "WrdOkz6nVM75",
    "pycharm": {
     "name": "#%%\n"
    }
   },
   "outputs": [],
   "source": [
    "from simpletransformers.ner import NERModel, NERArgs\n",
    "import torch\n",
    "\n",
    "def get_model(model_path,\n",
    "              model_type=\"bert\",\n",
    "              labels=None,\n",
    "              max_seq_length=512):\n",
    "    model_args = NERArgs()\n",
    "\n",
    "    if labels is not None:\n",
    "        model_args.labels_list = labels\n",
    "    else:\n",
    "        model_args.labels_list = [\"O\", \"COMMA\", \"PERIOD\", \"QUESTION\"]\n",
    "    model_args.silent = True\n",
    "    model_args.max_seq_length = max_seq_length\n",
    "    return NERModel(\n",
    "        model_type,\n",
    "        model_path,\n",
    "        args=model_args,\n",
    "        use_cuda=torch.cuda.is_available()\n",
    "    )"
   ]
  },
  {
   "cell_type": "code",
   "execution_count": null,
   "metadata": {
    "id": "zUXT5YwLX_-h",
    "pycharm": {
     "name": "#%%\n"
    }
   },
   "outputs": [],
   "source": [
    "import json \n",
    "filename = '/content/drive/Shareddrives/MEC - Correção textual/PLN/Notebooks/Pontuação/Dataset/student_entities.json'\n",
    "student_entities = json.load(open(filename))\n"
   ]
  },
  {
   "cell_type": "code",
   "source": [
    "import nltk \n",
    "nltk.download('punkt')"
   ],
   "metadata": {
    "colab": {
     "base_uri": "https://localhost:8080/"
    },
    "id": "hQZSuG--9hdE",
    "outputId": "f3bacb06-6379-4eb2-da2f-1795ce3f6c54",
    "pycharm": {
     "name": "#%%\n"
    }
   },
   "execution_count": null,
   "outputs": [
    {
     "output_type": "stream",
     "name": "stderr",
     "text": [
      "[nltk_data] Downloading package punkt to /root/nltk_data...\n",
      "[nltk_data]   Unzipping tokenizers/punkt.zip.\n"
     ]
    },
    {
     "output_type": "execute_result",
     "data": {
      "text/plain": [
       "True"
      ]
     },
     "metadata": {},
     "execution_count": 7
    }
   ]
  },
  {
   "cell_type": "code",
   "source": [
    "from nltk.tokenize import word_tokenize, wordpunct_tokenize\n",
    "\n",
    "wordpunct_tokenize(\"Ela vai dormir.\")"
   ],
   "metadata": {
    "id": "BP6QKi0Vhx3f",
    "colab": {
     "base_uri": "https://localhost:8080/"
    },
    "outputId": "0085ee55-386f-4fbf-ad3f-07e48aad50bb",
    "pycharm": {
     "name": "#%%\n"
    }
   },
   "execution_count": null,
   "outputs": [
    {
     "output_type": "execute_result",
     "data": {
      "text/plain": [
       "['Ela', 'vai', 'dormir', '.']"
      ]
     },
     "metadata": {},
     "execution_count": 9
    }
   ]
  },
  {
   "cell_type": "code",
   "execution_count": null,
   "metadata": {
    "id": "Rv1g9jUWYYvy",
    "pycharm": {
     "name": "#%%\n"
    }
   },
   "outputs": [],
   "source": [
    "import re\n",
    "def split_paragraphs(text):\n",
    "    paragraphs = text.split('\\n')\n",
    "    return paragraphs"
   ]
  },
  {
   "cell_type": "code",
   "source": [
    "import string\n",
    "def remove_punctuation(text):\n",
    "    text = ' '.join(word for word in word_tokenize(text)\n",
    "                    if word not in string.punctuation)\n",
    "    return text"
   ],
   "metadata": {
    "id": "cljmHT_KKnR3",
    "pycharm": {
     "name": "#%%\n"
    }
   },
   "execution_count": null,
   "outputs": []
  },
  {
   "cell_type": "code",
   "execution_count": null,
   "metadata": {
    "id": "vt7qmKNQeeDa",
    "colab": {
     "base_uri": "https://localhost:8080/"
    },
    "outputId": "cac22f17-a4c0-4490-88f4-5ce8fc781110",
    "pycharm": {
     "name": "#%%\n"
    }
   },
   "outputs": [
    {
     "output_type": "execute_result",
     "data": {
      "text/plain": [
       "['O', 'O', 'I-PERIOD']"
      ]
     },
     "metadata": {},
     "execution_count": 17
    }
   ],
   "source": [
    "\n",
    "anno_files = '/content/drive/Shareddrives/MEC - Correção textual/PLN/Notebooks/Pontuação/Dataset/annotator1_entities.json'\n",
    "annotator = json.load(open(anno_files))\n",
    "annotator[0]['labels'][:3]"
   ]
  },
  {
   "cell_type": "code",
   "source": [
    "def merge_dicts(dict_args):\n",
    "    \"\"\"\n",
    "    Given any number of dictionaries, shallow copy and merge into a new dict,\n",
    "    precedence goes to key-value pairs in latter dictionaries.\n",
    "    \"\"\"\n",
    "    result = dict_args[0]\n",
    "    for dictionary in dict_args:\n",
    "        result.update(dictionary)\n",
    "    return result"
   ],
   "metadata": {
    "id": "Vzi0QSVok7BE",
    "pycharm": {
     "name": "#%%\n"
    }
   },
   "execution_count": null,
   "outputs": []
  },
  {
   "cell_type": "code",
   "source": [
    "import traceback\n",
    "def get_labels(text, pred_dict):\n",
    "    labels = []\n",
    "    try:\n",
    "        ## Tokenização do BERT tá diferente daque é feita aqui\n",
    "        for word in word_tokenize(text):\n",
    "            if word not in string.punctuation:\n",
    "                if pred_dict[word] == \"QUESTION\":\n",
    "                    label = \"I-PERIOD\"\n",
    "                elif pred_dict[word] == \"COMMA\":\n",
    "                    label = \"I-COMMA\"\n",
    "                elif pred_dict[word] == \"PERIOD\":\n",
    "                    label = \"I-PERIOD\"\n",
    "                else:\n",
    "                    label = \"O\"\n",
    "                labels.append(label)\n",
    "    except KeyError:\n",
    "        print(\"KeyError\", pred_dict)\n",
    "        print(traceback.format_exc())\n",
    "        print(text)\n",
    "        \n",
    "    return labels"
   ],
   "metadata": {
    "id": "p_3jpn-hn_wy",
    "pycharm": {
     "name": "#%%\n"
    }
   },
   "execution_count": null,
   "outputs": []
  },
  {
   "cell_type": "code",
   "source": [
    "def preprocess_text(text):\n",
    "    \"\"\" \n",
    "    Preprocess text for prediction\n",
    "    :param text: text to preprocess\n",
    "    :return:  list of preprocessed text\n",
    "    \"\"\"\n",
    "    paragraphs = split_paragraphs(text)\n",
    "\n",
    "    return list(map(lambda x: remove_punctuation(x), paragraphs))"
   ],
   "metadata": {
    "id": "P8kFdiWvN9eB",
    "pycharm": {
     "name": "#%%\n"
    }
   },
   "execution_count": null,
   "outputs": []
  },
  {
   "cell_type": "code",
   "source": [
    "from itertools import chain"
   ],
   "metadata": {
    "id": "Ln07Hz3jN_NW",
    "pycharm": {
     "name": "#%%\n"
    }
   },
   "execution_count": null,
   "outputs": []
  },
  {
   "cell_type": "code",
   "source": [
    "def predict(test_text: str, model):\n",
    "    texts = preprocess_text(test_text)\n",
    "    prediction_list, raw_outputs = model.predict(texts)\n",
    "    pred_dict = merge_dicts(list(chain(*prediction_list)))\n",
    "\n",
    "    return get_labels(test_text, pred_dict)"
   ],
   "metadata": {
    "id": "yPbh3mpBNUMe",
    "pycharm": {
     "name": "#%%\n"
    }
   },
   "execution_count": null,
   "outputs": []
  },
  {
   "cell_type": "code",
   "source": [
    "def text2labels(sentence):\n",
    "    \"\"\"\n",
    "    Convert text to labels\n",
    "    :param sentence: text to convert\n",
    "    :return:  list of labels\n",
    "    \"\"\"\n",
    "    tokens = word_tokenize(sentence.lower())\n",
    "\n",
    "    labels = []\n",
    "    for i, token in enumerate(tokens):\n",
    "        try:\n",
    "            if token not in string.punctuation:\n",
    "                labels.append('O')\n",
    "            elif token in ['.', '?', '!', ';']:\n",
    "                labels[-1] = 'I-PERIOD'\n",
    "            elif token == ',':\n",
    "                labels[-1] = 'I-COMMA'\n",
    "\n",
    "        except IndexError:\n",
    "            raise ValueError(f\"Sentence can't start with punctuation {token}\")\n",
    "    return labels"
   ],
   "metadata": {
    "id": "qV81z0ELOSEp",
    "pycharm": {
     "name": "#%%\n"
    }
   },
   "execution_count": null,
   "outputs": []
  },
  {
   "cell_type": "code",
   "source": [
    "anno_file = \"/content/drive/Shareddrives/MEC - Correção textual/PLN/Notebooks/Pontuação/Dataset/annotator2_entities.json\"\n",
    "annotator_entities = json.load(open(anno_file, \"r\"))\n",
    "MODEL_PATH = \"./bert-portuguese-tedtalk2012\"\n",
    "model = get_model(MODEL_PATH, model_type=\"bert\", max_seq_length=512)\n",
    "annotator_entities[:1]"
   ],
   "metadata": {
    "id": "aVPsNMWKPgsK",
    "pycharm": {
     "name": "#%%\n"
    }
   },
   "execution_count": null,
   "outputs": []
  },
  {
   "cell_type": "code",
   "source": [
    "from seqeval import metrics\n",
    "import pandas as pd\n",
    "from tqdm import tqdm\n",
    "bert_labels = []\n",
    "true_labels = []\n",
    "\n",
    "for item in tqdm(annotator_entities, total=len(annotator_entities)):\n",
    "\n",
    "    text_id = item[\"text_id\"]\n",
    "\n",
    "    ann_text = item[\"text\"]\n",
    "\n",
    "    bert_label = predict(ann_text, model)\n",
    "    true_label = text2labels(item[\"text\"])\n",
    "   \n",
    "    true_labels.append(true_label)\n",
    "    bert_labels.append(bert_label)\n",
    "\n",
    "report = metrics.classification_report(true_labels, bert_labels, output_dict=True)\n",
    "df = pd.DataFrame.from_dict(report, orient='index')\n",
    "df"
   ],
   "metadata": {
    "colab": {
     "base_uri": "https://localhost:8080/",
     "height": 224
    },
    "id": "7NBHi2LvjWN2",
    "outputId": "42ffc37c-4ece-47f6-8d58-abc368a97ba1",
    "pycharm": {
     "name": "#%%\n"
    }
   },
   "execution_count": null,
   "outputs": [
    {
     "output_type": "stream",
     "name": "stderr",
     "text": [
      "100%|██████████| 149/149 [00:35<00:00,  4.21it/s]\n"
     ]
    },
    {
     "output_type": "execute_result",
     "data": {
      "text/plain": [
       "              precision    recall  f1-score  support\n",
       "COMMA          0.089780  0.302251  0.138439      311\n",
       "PERIOD         0.543031  0.544275  0.543652     1310\n",
       "micro avg      0.341949  0.497841  0.405426     1621\n",
       "macro avg      0.316406  0.423263  0.341046     1621\n",
       "weighted avg   0.456072  0.497841  0.465909     1621"
      ],
      "text/html": [
       "\n",
       "  <div id=\"df-ed83922a-6698-4d8c-b6fd-6464aed98f45\">\n",
       "    <div class=\"colab-df-container\">\n",
       "      <div>\n",
       "<style scoped>\n",
       "    .dataframe tbody tr th:only-of-type {\n",
       "        vertical-align: middle;\n",
       "    }\n",
       "\n",
       "    .dataframe tbody tr th {\n",
       "        vertical-align: top;\n",
       "    }\n",
       "\n",
       "    .dataframe thead th {\n",
       "        text-align: right;\n",
       "    }\n",
       "</style>\n",
       "<table border=\"1\" class=\"dataframe\">\n",
       "  <thead>\n",
       "    <tr style=\"text-align: right;\">\n",
       "      <th></th>\n",
       "      <th>precision</th>\n",
       "      <th>recall</th>\n",
       "      <th>f1-score</th>\n",
       "      <th>support</th>\n",
       "    </tr>\n",
       "  </thead>\n",
       "  <tbody>\n",
       "    <tr>\n",
       "      <th>COMMA</th>\n",
       "      <td>0.089780</td>\n",
       "      <td>0.302251</td>\n",
       "      <td>0.138439</td>\n",
       "      <td>311</td>\n",
       "    </tr>\n",
       "    <tr>\n",
       "      <th>PERIOD</th>\n",
       "      <td>0.543031</td>\n",
       "      <td>0.544275</td>\n",
       "      <td>0.543652</td>\n",
       "      <td>1310</td>\n",
       "    </tr>\n",
       "    <tr>\n",
       "      <th>micro avg</th>\n",
       "      <td>0.341949</td>\n",
       "      <td>0.497841</td>\n",
       "      <td>0.405426</td>\n",
       "      <td>1621</td>\n",
       "    </tr>\n",
       "    <tr>\n",
       "      <th>macro avg</th>\n",
       "      <td>0.316406</td>\n",
       "      <td>0.423263</td>\n",
       "      <td>0.341046</td>\n",
       "      <td>1621</td>\n",
       "    </tr>\n",
       "    <tr>\n",
       "      <th>weighted avg</th>\n",
       "      <td>0.456072</td>\n",
       "      <td>0.497841</td>\n",
       "      <td>0.465909</td>\n",
       "      <td>1621</td>\n",
       "    </tr>\n",
       "  </tbody>\n",
       "</table>\n",
       "</div>\n",
       "      <button class=\"colab-df-convert\" onclick=\"convertToInteractive('df-ed83922a-6698-4d8c-b6fd-6464aed98f45')\"\n",
       "              title=\"Convert this dataframe to an interactive table.\"\n",
       "              style=\"display:none;\">\n",
       "        \n",
       "  <svg xmlns=\"http://www.w3.org/2000/svg\" height=\"24px\"viewBox=\"0 0 24 24\"\n",
       "       width=\"24px\">\n",
       "    <path d=\"M0 0h24v24H0V0z\" fill=\"none\"/>\n",
       "    <path d=\"M18.56 5.44l.94 2.06.94-2.06 2.06-.94-2.06-.94-.94-2.06-.94 2.06-2.06.94zm-11 1L8.5 8.5l.94-2.06 2.06-.94-2.06-.94L8.5 2.5l-.94 2.06-2.06.94zm10 10l.94 2.06.94-2.06 2.06-.94-2.06-.94-.94-2.06-.94 2.06-2.06.94z\"/><path d=\"M17.41 7.96l-1.37-1.37c-.4-.4-.92-.59-1.43-.59-.52 0-1.04.2-1.43.59L10.3 9.45l-7.72 7.72c-.78.78-.78 2.05 0 2.83L4 21.41c.39.39.9.59 1.41.59.51 0 1.02-.2 1.41-.59l7.78-7.78 2.81-2.81c.8-.78.8-2.07 0-2.86zM5.41 20L4 18.59l7.72-7.72 1.47 1.35L5.41 20z\"/>\n",
       "  </svg>\n",
       "      </button>\n",
       "      \n",
       "  <style>\n",
       "    .colab-df-container {\n",
       "      display:flex;\n",
       "      flex-wrap:wrap;\n",
       "      gap: 12px;\n",
       "    }\n",
       "\n",
       "    .colab-df-convert {\n",
       "      background-color: #E8F0FE;\n",
       "      border: none;\n",
       "      border-radius: 50%;\n",
       "      cursor: pointer;\n",
       "      display: none;\n",
       "      fill: #1967D2;\n",
       "      height: 32px;\n",
       "      padding: 0 0 0 0;\n",
       "      width: 32px;\n",
       "    }\n",
       "\n",
       "    .colab-df-convert:hover {\n",
       "      background-color: #E2EBFA;\n",
       "      box-shadow: 0px 1px 2px rgba(60, 64, 67, 0.3), 0px 1px 3px 1px rgba(60, 64, 67, 0.15);\n",
       "      fill: #174EA6;\n",
       "    }\n",
       "\n",
       "    [theme=dark] .colab-df-convert {\n",
       "      background-color: #3B4455;\n",
       "      fill: #D2E3FC;\n",
       "    }\n",
       "\n",
       "    [theme=dark] .colab-df-convert:hover {\n",
       "      background-color: #434B5C;\n",
       "      box-shadow: 0px 1px 3px 1px rgba(0, 0, 0, 0.15);\n",
       "      filter: drop-shadow(0px 1px 2px rgba(0, 0, 0, 0.3));\n",
       "      fill: #FFFFFF;\n",
       "    }\n",
       "  </style>\n",
       "\n",
       "      <script>\n",
       "        const buttonEl =\n",
       "          document.querySelector('#df-ed83922a-6698-4d8c-b6fd-6464aed98f45 button.colab-df-convert');\n",
       "        buttonEl.style.display =\n",
       "          google.colab.kernel.accessAllowed ? 'block' : 'none';\n",
       "\n",
       "        async function convertToInteractive(key) {\n",
       "          const element = document.querySelector('#df-ed83922a-6698-4d8c-b6fd-6464aed98f45');\n",
       "          const dataTable =\n",
       "            await google.colab.kernel.invokeFunction('convertToInteractive',\n",
       "                                                     [key], {});\n",
       "          if (!dataTable) return;\n",
       "\n",
       "          const docLinkHtml = 'Like what you see? Visit the ' +\n",
       "            '<a target=\"_blank\" href=https://colab.research.google.com/notebooks/data_table.ipynb>data table notebook</a>'\n",
       "            + ' to learn more about interactive tables.';\n",
       "          element.innerHTML = '';\n",
       "          dataTable['output_type'] = 'display_data';\n",
       "          await google.colab.output.renderOutput(dataTable, element);\n",
       "          const docLink = document.createElement('div');\n",
       "          docLink.innerHTML = docLinkHtml;\n",
       "          element.appendChild(docLink);\n",
       "        }\n",
       "      </script>\n",
       "    </div>\n",
       "  </div>\n",
       "  "
      ]
     },
     "metadata": {},
     "execution_count": 35
    }
   ]
  },
  {
   "cell_type": "code",
   "source": [
    "df.to_csv(f\"results_anotador2.csv\")"
   ],
   "metadata": {
    "id": "l7MI-y9bVuJR",
    "pycharm": {
     "name": "#%%\n"
    }
   },
   "execution_count": null,
   "outputs": []
  }
 ],
 "metadata": {
  "accelerator": "GPU",
  "colab": {
   "provenance": [],
   "collapsed_sections": []
  },
  "gpuClass": "standard",
  "kernelspec": {
   "display_name": "Python 3",
   "name": "python3"
  },
  "language_info": {
   "name": "python"
  }
 },
 "nbformat": 4,
 "nbformat_minor": 0
}